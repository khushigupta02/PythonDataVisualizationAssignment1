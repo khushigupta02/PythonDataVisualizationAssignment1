{
  "nbformat": 4,
  "nbformat_minor": 0,
  "metadata": {
    "colab": {
      "name": "AssignmentDay2.ipynb",
      "provenance": [],
      "collapsed_sections": [],
      "authorship_tag": "ABX9TyPGafdOkVnQII4y1rb05ian",
      "include_colab_link": true
    },
    "kernelspec": {
      "name": "python3",
      "display_name": "Python 3"
    },
    "language_info": {
      "name": "python"
    }
  },
  "cells": [
    {
      "cell_type": "markdown",
      "metadata": {
        "id": "view-in-github",
        "colab_type": "text"
      },
      "source": [
        "<a href=\"https://colab.research.google.com/github/khushigupta02/PythonDataVisualizationAssignments/blob/main/AssignmentDay2.ipynb\" target=\"_parent\"><img src=\"https://colab.research.google.com/assets/colab-badge.svg\" alt=\"Open In Colab\"/></a>"
      ]
    },
    {
      "cell_type": "markdown",
      "metadata": {
        "id": "rAqs7UiJKWXr"
      },
      "source": [
        " \n",
        "Assignment 2 Python & Data Visualization\n",
        "\n",
        "Name :- Khushi Gupta\n",
        "\n",
        "Email:- khushiguptakhushi02@gmail.com\n",
        "\n",
        "date:- 06/07/2021"
      ]
    },
    {
      "cell_type": "markdown",
      "metadata": {
        "id": "FXjk-y0QMzuf"
      },
      "source": [
        "Question 1"
      ]
    },
    {
      "cell_type": "code",
      "metadata": {
        "id": "kZnLHZd4J_uc"
      },
      "source": [
        "import matplotlib.pyplot as plt\n",
        "import numpy as np\n",
        "import pandas as pd\n",
        "%matplotlib inline\n",
        "import seaborn as sns\n",
        "from numpy.random import randn, randint, uniform, sample"
      ],
      "execution_count": 2,
      "outputs": []
    },
    {
      "cell_type": "code",
      "metadata": {
        "colab": {
          "base_uri": "https://localhost:8080/",
          "height": 357
        },
        "id": "RARanCnkLMoz",
        "outputId": "edee44b8-b3c4-45cf-b205-5043224b0aa6"
      },
      "source": [
        "df = pd.DataFrame(randn(10,4),columns=['a','b','c','d'])\n",
        "df\n"
      ],
      "execution_count": 3,
      "outputs": [
        {
          "output_type": "execute_result",
          "data": {
            "text/html": [
              "<div>\n",
              "<style scoped>\n",
              "    .dataframe tbody tr th:only-of-type {\n",
              "        vertical-align: middle;\n",
              "    }\n",
              "\n",
              "    .dataframe tbody tr th {\n",
              "        vertical-align: top;\n",
              "    }\n",
              "\n",
              "    .dataframe thead th {\n",
              "        text-align: right;\n",
              "    }\n",
              "</style>\n",
              "<table border=\"1\" class=\"dataframe\">\n",
              "  <thead>\n",
              "    <tr style=\"text-align: right;\">\n",
              "      <th></th>\n",
              "      <th>a</th>\n",
              "      <th>b</th>\n",
              "      <th>c</th>\n",
              "      <th>d</th>\n",
              "    </tr>\n",
              "  </thead>\n",
              "  <tbody>\n",
              "    <tr>\n",
              "      <th>0</th>\n",
              "      <td>0.892401</td>\n",
              "      <td>-1.009839</td>\n",
              "      <td>-0.709918</td>\n",
              "      <td>0.077493</td>\n",
              "    </tr>\n",
              "    <tr>\n",
              "      <th>1</th>\n",
              "      <td>1.587788</td>\n",
              "      <td>-1.274409</td>\n",
              "      <td>-0.724455</td>\n",
              "      <td>0.687527</td>\n",
              "    </tr>\n",
              "    <tr>\n",
              "      <th>2</th>\n",
              "      <td>-0.045032</td>\n",
              "      <td>-1.233991</td>\n",
              "      <td>-0.220494</td>\n",
              "      <td>0.767791</td>\n",
              "    </tr>\n",
              "    <tr>\n",
              "      <th>3</th>\n",
              "      <td>0.299788</td>\n",
              "      <td>0.234271</td>\n",
              "      <td>0.046405</td>\n",
              "      <td>-0.759287</td>\n",
              "    </tr>\n",
              "    <tr>\n",
              "      <th>4</th>\n",
              "      <td>-0.526276</td>\n",
              "      <td>0.473305</td>\n",
              "      <td>-0.546297</td>\n",
              "      <td>0.345861</td>\n",
              "    </tr>\n",
              "    <tr>\n",
              "      <th>5</th>\n",
              "      <td>-1.748480</td>\n",
              "      <td>1.038968</td>\n",
              "      <td>0.297669</td>\n",
              "      <td>-1.995787</td>\n",
              "    </tr>\n",
              "    <tr>\n",
              "      <th>6</th>\n",
              "      <td>-0.454492</td>\n",
              "      <td>-0.084787</td>\n",
              "      <td>0.582655</td>\n",
              "      <td>-0.119462</td>\n",
              "    </tr>\n",
              "    <tr>\n",
              "      <th>7</th>\n",
              "      <td>2.471372</td>\n",
              "      <td>0.859407</td>\n",
              "      <td>-0.052992</td>\n",
              "      <td>-0.063344</td>\n",
              "    </tr>\n",
              "    <tr>\n",
              "      <th>8</th>\n",
              "      <td>0.485808</td>\n",
              "      <td>1.041921</td>\n",
              "      <td>0.135050</td>\n",
              "      <td>-0.300214</td>\n",
              "    </tr>\n",
              "    <tr>\n",
              "      <th>9</th>\n",
              "      <td>-0.355391</td>\n",
              "      <td>-0.854325</td>\n",
              "      <td>0.507251</td>\n",
              "      <td>0.728241</td>\n",
              "    </tr>\n",
              "  </tbody>\n",
              "</table>\n",
              "</div>"
            ],
            "text/plain": [
              "          a         b         c         d\n",
              "0  0.892401 -1.009839 -0.709918  0.077493\n",
              "1  1.587788 -1.274409 -0.724455  0.687527\n",
              "2 -0.045032 -1.233991 -0.220494  0.767791\n",
              "3  0.299788  0.234271  0.046405 -0.759287\n",
              "4 -0.526276  0.473305 -0.546297  0.345861\n",
              "5 -1.748480  1.038968  0.297669 -1.995787\n",
              "6 -0.454492 -0.084787  0.582655 -0.119462\n",
              "7  2.471372  0.859407 -0.052992 -0.063344\n",
              "8  0.485808  1.041921  0.135050 -0.300214\n",
              "9 -0.355391 -0.854325  0.507251  0.728241"
            ]
          },
          "metadata": {
            "tags": []
          },
          "execution_count": 3
        }
      ]
    },
    {
      "cell_type": "code",
      "metadata": {
        "colab": {
          "base_uri": "https://localhost:8080/",
          "height": 621
        },
        "id": "S7XHtS5aMudD",
        "outputId": "e6087f14-44da-4585-d14b-13ad7012be0d"
      },
      "source": [
        "df.plot(kind='bar',title='Bar Chart',figsize=(10,10),grid=True,legend = True)\n"
      ],
      "execution_count": 6,
      "outputs": [
        {
          "output_type": "execute_result",
          "data": {
            "text/plain": [
              "<matplotlib.axes._subplots.AxesSubplot at 0x7fc6468b0690>"
            ]
          },
          "metadata": {
            "tags": []
          },
          "execution_count": 6
        },
        {
          "output_type": "display_data",
          "data": {
            "image/png": "[encoded data removed]",
            "text/plain": [
              "<Figure size 720x720 with 1 Axes>"
            ]
          },
          "metadata": {
            "tags": [],
            "needs_background": "light"
          }
        }
      ]
    }
  ]
}