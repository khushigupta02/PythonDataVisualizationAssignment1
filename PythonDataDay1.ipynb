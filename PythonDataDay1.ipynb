{
  "nbformat": 4,
  "nbformat_minor": 0,
  "metadata": {
    "colab": {
      "name": "PythonDataDay1.ipynb",
      "provenance": [],
      "collapsed_sections": [],
      "authorship_tag": "ABX9TyNpSZfNDmsWxvqJnlpFPrzN",
      "include_colab_link": true
    },
    "kernelspec": {
      "name": "python3",
      "display_name": "Python 3"
    },
    "language_info": {
      "name": "python"
    }
  },
  "cells": [
    {
      "cell_type": "markdown",
      "metadata": {
        "id": "view-in-github",
        "colab_type": "text"
      },
      "source": [
        "<a href=\"https://colab.research.google.com/github/khushigupta02/PythonDataVisualizationAssignment1/blob/main/PythonDataDay1.ipynb\" target=\"_parent\"><img src=\"https://colab.research.google.com/assets/colab-badge.svg\" alt=\"Open In Colab\"/></a>"
      ]
    },
    {
      "cell_type": "markdown",
      "metadata": {
        "id": "b_fDDmOOTXaJ"
      },
      "source": [
        " \n",
        "Assignment 1 Python & Data Visualization\n",
        "\n",
        "Name :- Khushi Gupta\n",
        "\n",
        "Email:- khushiguptakhushi02@gmail.com\n",
        "\n",
        "date:- 05/07/2021"
      ]
    },
    {
      "cell_type": "markdown",
      "metadata": {
        "id": "0pdThdvSZG5q"
      },
      "source": [
        "Class Assignment Question"
      ]
    },
    {
      "cell_type": "code",
      "metadata": {
        "id": "FwKT35ODT2PH"
      },
      "source": [
        "import numpy as np\n",
        "import pandas as pd\n",
        "import matplotlib as mpl\n",
        "import matplotlib.pyplot as plt\n",
        "%matplotlib inline"
      ],
      "execution_count": 79,
      "outputs": []
    },
    {
      "cell_type": "code",
      "metadata": {
        "colab": {
          "base_uri": "https://localhost:8080/"
        },
        "id": "2QgJMF-WUg6i",
        "outputId": "9e09e3e0-b14f-44f6-85bd-6fffde54d6a6"
      },
      "source": [
        "x = np.arange(0,10)\n",
        "y = x*x"
      ],
      "execution_count": null,
      "outputs": [
        {
          "output_type": "execute_result",
          "data": {
            "text/plain": [
              "array([0, 1, 2, 3, 4, 5, 6, 7, 8, 9])"
            ]
          },
          "metadata": {
            "tags": []
          },
          "execution_count": 4
        }
      ]
    },
    {
      "cell_type": "code",
      "metadata": {
        "colab": {
          "base_uri": "https://localhost:8080/"
        },
        "id": "Mk8e2wPMUxFe",
        "outputId": "f498fa30-1f57-4986-b1fa-989e26425fbc"
      },
      "source": [
        "print(x)"
      ],
      "execution_count": null,
      "outputs": [
        {
          "output_type": "stream",
          "text": [
            "[0 1 2 3 4 5 6 7 8 9]\n"
          ],
          "name": "stdout"
        }
      ]
    },
    {
      "cell_type": "code",
      "metadata": {
        "colab": {
          "base_uri": "https://localhost:8080/"
        },
        "id": "Qh-YcZWaUxP7",
        "outputId": "97112312-eede-42e4-a136-a2fd29411448"
      },
      "source": [
        "print(y)"
      ],
      "execution_count": null,
      "outputs": [
        {
          "output_type": "stream",
          "text": [
            "[ 0  1  4  9 16 25 36 49 64 81]\n"
          ],
          "name": "stdout"
        }
      ]
    },
    {
      "cell_type": "code",
      "metadata": {
        "colab": {
          "base_uri": "https://localhost:8080/",
          "height": 251
        },
        "id": "N_tgUNeaViCo",
        "outputId": "f5a877e5-3cbe-40f1-d6b8-eb5d53ae1968"
      },
      "source": [
        "plt.title(\"Line Plot\")\n",
        "plt.xlabel(\"X-axis\")\n",
        "plt.ylabel(\"Y-axis\")\n",
        "plt.plot(x,y)"
      ],
      "execution_count": null,
      "outputs": [
        {
          "output_type": "execute_result",
          "data": {
            "text/plain": [
              "[<matplotlib.lines.Line2D at 0x7f08ea277ed0>]"
            ]
          },
          "metadata": {
            "tags": []
          },
          "execution_count": 7
        },
        {
          "output_type": "display_data",
          "data": {
            "image/png": "[encoded data removed]",
            "text/plain": [
              "<Figure size 432x288 with 1 Axes>"
            ]
          },
          "metadata": {
            "tags": [],
            "needs_background": "light"
          }
        }
      ]
    },
    {
      "cell_type": "code",
      "metadata": {
        "colab": {
          "base_uri": "https://localhost:8080/",
          "height": 332
        },
        "id": "m-7VT-hYWTUl",
        "outputId": "0d701e13-f815-47dd-fa16-20b133984ed1"
      },
      "source": [
        "plt.title(\"2D-Diagram\")\n",
        "plt.xlabel(\"X-axis\")\n",
        "plt.ylabel(\"Y-axis\")\n",
        "plt.plot(x,y,  color='green', marker='o', linestyle='dashed' , linewidth='1' ,  markersize='10')"
      ],
      "execution_count": null,
      "outputs": [
        {
          "output_type": "execute_result",
          "data": {
            "text/plain": [
              "[<matplotlib.lines.Line2D at 0x7f08e99387d0>]"
            ]
          },
          "metadata": {
            "tags": []
          },
          "execution_count": 18
        },
        {
          "output_type": "display_data",
          "data": {
            "image/png": "[encoded data removed]",
            "text/plain": [
              "<Figure size 432x288 with 1 Axes>"
            ]
          },
          "metadata": {
            "tags": [],
            "needs_background": "light"
          }
        }
      ]
    },
    {
      "cell_type": "markdown",
      "metadata": {
        "id": "fnwuvVylZTq-"
      },
      "source": [
        " \n",
        "Assignment-1\n",
        "\n",
        "Question1"
      ]
    },
    {
      "cell_type": "code",
      "metadata": {
        "colab": {
          "base_uri": "https://localhost:8080/",
          "height": 251
        },
        "id": "4S_yFcpDZNLY",
        "outputId": "d182dd0a-7090-4a8b-92c4-6b8249ae5fea"
      },
      "source": [
        "a = np.arange(40,50)\n",
        "b = np.arange(50,60)\n",
        "plt.title(\"Line Plot\")\n",
        "plt.xlabel(\"a-axis\")\n",
        "plt.ylabel(\"b-axis\")\n",
        "plt.plot(a,b, 'g--', marker='o', linewidth='1', color ='y')"
      ],
      "execution_count": null,
      "outputs": [
        {
          "output_type": "execute_result",
          "data": {
            "text/plain": [
              "[<matplotlib.lines.Line2D at 0x7f08e972e790>]"
            ]
          },
          "metadata": {
            "tags": []
          },
          "execution_count": 45
        },
        {
          "output_type": "display_data",
          "data": {
            "image/png": "[encoded data removed]",
            "text/plain": [
              "<Figure size 432x288 with 1 Axes>"
            ]
          },
          "metadata": {
            "tags": [],
            "needs_background": "light"
          }
        }
      ]
    },
    {
      "cell_type": "markdown",
      "metadata": {
        "id": "1yK75xGGa3Xb"
      },
      "source": [
        "Question2"
      ]
    },
    {
      "cell_type": "code",
      "metadata": {
        "colab": {
          "base_uri": "https://localhost:8080/",
          "height": 247
        },
        "id": "ACQ-wDFZXQP1",
        "outputId": "4f1e2236-1a48-4084-a522-d7123404d404"
      },
      "source": [
        " \n",
        "days = [1,2,3,4,5,6,7]\n",
        "sales_1 = [160,150,140,145,175,165,180]\n",
        "sales_2 = [70,90,160,150,140,145,175]\n",
        "plt.title(\"Sales Distribution\")\n",
        " \n",
        "plt.xlabel(\"Days of week\")\n",
        "plt.ylabel(\"Sales\")\n",
        "plt.plot(days, sales_1, label='sales_1', linestyle='dashed', color='blue' , marker ='o')\n",
        "plt.plot(days, sales_2, label='sales_2', linestyle='dashed' , color='red' , marker ='o')\n",
        "plt.grid()\n",
        "plt.legend(loc='lower right')"
      ],
      "execution_count": null,
      "outputs": [
        {
          "output_type": "execute_result",
          "data": {
            "text/plain": [
              "<matplotlib.legend.Legend at 0x7f08e8fbdb50>"
            ]
          },
          "metadata": {
            "tags": []
          },
          "execution_count": 62
        },
        {
          "output_type": "display_data",
          "data": {
            "image/png": "[encoded data removed]",
            "text/plain": [
              "<Figure size 432x288 with 1 Axes>"
            ]
          },
          "metadata": {
            "tags": [],
            "needs_background": "light"
          }
        }
      ]
    }
  ]
}